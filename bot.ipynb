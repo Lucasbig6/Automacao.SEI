{
 "cells": [
  {
   "cell_type": "code",
   "execution_count": 50,
   "metadata": {},
   "outputs": [],
   "source": [
    "from selenium import webdriver\n",
    "from selenium.webdriver.common.by import By\n",
    "from selenium.webdriver.support.ui import WebDriverWait\n",
    "from selenium.webdriver.support import expected_conditions as EC\n",
    "from webdriver_manager.chrome import ChromeDriverManager\n",
    "from selenium.webdriver.chrome.service import Service\n",
    "from selenium.webdriver.support.ui import Select\n",
    "import gspread\n",
    "from oauth2client.service_account import ServiceAccountCredentials\n",
    "from selenium.webdriver.common.keys import Keys\n",
    "\n",
    "servico = Service(ChromeDriverManager().install())\n",
    "navegador = webdriver.Chrome(service=servico)"
   ]
  },
  {
   "cell_type": "code",
   "execution_count": 51,
   "metadata": {},
   "outputs": [],
   "source": [
    "# API do Google Sheets\n",
    "scope = ['https://www.googleapis.com/auth/spreadsheets.readonly']\n",
    "creds = ServiceAccountCredentials.from_json_keyfile_name(\n",
    "    'pragmatic-braid-429419-n6-887ce9594d96.json', scope)\n",
    "client = gspread.authorize(creds)\n",
    "\n",
    "planilha = client.open_by_key('1tvmZ88h3KQz2HHFt4IKrkrPqlTI2HNkOAIGEGmV6fFI')\n",
    "\n",
    "#PLANILHA\n",
    "sheet = planilha.get_worksheet(0)\n",
    "\n",
    "#COLUNAS\n",
    "dados = sheet.col_values(1)"
   ]
  },
  {
   "cell_type": "code",
   "execution_count": 52,
   "metadata": {},
   "outputs": [],
   "source": [
    "# Acesso\n",
    "navegador.get(\"https://sip.pi.gov.br/sip/login.php?sigla_orgao_sistema=GOV-PI&sigla_sistema=SEI&infra_url=L3NlaS8=\")\n",
    "\n",
    "#login\n",
    "navegador.find_element(By.XPATH, '/html/body/div[1]/div[3]/div/div[2]/form/div/div[2]/input[1]').send_keys(\"lucas.araujo@saude.pi.gov.br\")\n",
    "navegador.find_element(By.XPATH, '/html/body/div[1]/div[3]/div/div[2]/form/div/div[2]/input[2]').send_keys(\"sug6AD23\")\n",
    "\n",
    "\n",
    "navegador.find_element(By.XPATH, '/html/body/div[1]/div[3]/div/div[2]/form/div/div[2]/select[1]').click()\n",
    "\n",
    "# Esperar até que o elemento dropdown esteja presente\n",
    "dropdown_element = WebDriverWait(navegador, 10).until(\n",
    "    EC.presence_of_element_located((By.XPATH, '/html/body/div[1]/div[3]/div/div[2]/form/div/div[2]/select[1]'))\n",
    ")\n",
    "\n",
    "# instância da classe Select\n",
    "select = Select(dropdown_element)\n",
    "\n",
    "# Selecao na dropdown\n",
    "select.select_by_visible_text(\"SESAPI-PI\")\n",
    "\n",
    "navegador.find_element(By.XPATH, '/html/body/div[1]/div[3]/div/div[2]/form/div/div[4]/div[2]/button').click()"
   ]
  },
  {
   "cell_type": "code",
   "execution_count": 53,
   "metadata": {},
   "outputs": [],
   "source": [
    "#Pesquisa por dados \n",
    "for dado in dados:\n",
    "    input_element = navegador.find_element(By.XPATH, '/html/body/div[1]/div[2]/div[1]/div[4]/span/form/input')\n",
    "    input_element.clear()\n",
    "    input_element.send_keys(dado)\n",
    "    input_element.send_keys(Keys.ENTER)"
   ]
  },
  {
   "cell_type": "code",
   "execution_count": null,
   "metadata": {},
   "outputs": [],
   "source": []
  }
 ],
 "metadata": {
  "kernelspec": {
   "display_name": "ambientepowerbi",
   "language": "python",
   "name": "python3"
  },
  "language_info": {
   "codemirror_mode": {
    "name": "ipython",
    "version": 3
   },
   "file_extension": ".py",
   "mimetype": "text/x-python",
   "name": "python",
   "nbconvert_exporter": "python",
   "pygments_lexer": "ipython3",
   "version": "3.12.0"
  }
 },
 "nbformat": 4,
 "nbformat_minor": 2
}
